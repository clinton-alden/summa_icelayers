{
 "cells": [
  {
   "cell_type": "code",
   "execution_count": 2,
   "metadata": {},
   "outputs": [],
   "source": [
    "import pandas as pd\n",
    "import numpy as np\n",
    "import matplotlib.pyplot as plt\n",
    "import datetime as datetime\n",
    "import matplotlib.dates as mdates\n",
    "from datetime import datetime, timedelta\n",
    "from metloom.pointdata import SnotelPointData\n",
    "import geopandas as gpd"
   ]
  },
  {
   "cell_type": "code",
   "execution_count": 10,
   "metadata": {},
   "outputs": [],
   "source": [
    "sntls = pd.read_csv('/home/cdalden/summa_setup/analysis/sntl_list_ski_temps.csv')\n",
    "\n",
    "# Initialize the 'snow_precip_frac' column with NaN values if it doesn't exist\n",
    "if 'snow_precip_frac' not in sntls.columns:\n",
    "    sntls['snow_precip_frac'] = np.nan\n",
    "\n",
    "if 'snow_precip_frac_2C' not in sntls.columns:\n",
    "    sntls['snow_precip_frac_2C'] = np.nan\n",
    "\n",
    "if 'snow_precip_frac_4C' not in sntls.columns:\n",
    "    sntls['snow_precip_frac_4C'] = np.nan"
   ]
  },
  {
   "cell_type": "code",
   "execution_count": null,
   "metadata": {},
   "outputs": [],
   "source": [
    "\n",
    "\n",
    "start_date = datetime(2000, 12, 1)\n",
    "end_date = datetime(2024, 3, 31)\n",
    "\n",
    "# Loop through the 'site' column and assign the corresponding 'state'\n",
    "for index, row in sntls.iterrows():\n",
    "    site = row['site_code']\n",
    "    state = row['state']\n",
    "    # %%\n",
    "    # Pull desired variables from snotel to dataframe\n",
    "    # snotel_point = SnotelPointData(snotel, \"MyStation\")\n",
    "    snotel_point = SnotelPointData(f'{str(site)}:{str(state)}:SNTL', \"MyStation\")\n",
    "    df = snotel_point.get_hourly_data(\n",
    "        start_date, end_date,\n",
    "        [snotel_point.ALLOWED_VARIABLES.PRECIPITATIONACCUM, snotel_point.ALLOWED_VARIABLES.TEMP]\n",
    "    )"
   ]
  },
  {
   "cell_type": "code",
   "execution_count": 5,
   "metadata": {},
   "outputs": [],
   "source": [
    "start_date = datetime(2020, 12, 1)\n",
    "end_date = datetime(2023, 3, 31)\n",
    "\n",
    "# Pull desired variables from snotel to dataframe\n",
    "snotel_point = SnotelPointData('1082:WY:SNTL', \"MyStation\")\n",
    "df = snotel_point.get_hourly_data(\n",
    "    start_date, end_date,\n",
    "    [snotel_point.ALLOWED_VARIABLES.PRECIPITATIONACCUM, snotel_point.ALLOWED_VARIABLES.TEMP]\n",
    ")\n",
    "\n",
    "# Clean up the dataframe\n",
    "df.reset_index(inplace=True)\n",
    "\n",
    "# Rename columns\n",
    "replace = {'ACCUMULATED PRECIPITATION':'accppt','AIR TEMP':'airtemp', 'datetime':'time'}\n",
    "df.rename(columns=replace, inplace=True)\n",
    "df.set_index('time', inplace=True)\n",
    "# conver airtemp to C\n",
    "df['airtempC'] = (df['airtemp'] - 32) * 5/9\n",
    "\n",
    "# Currier snotel temp correction\n",
    "df['airtempC'] = (1.03*(df['airtempC']-0.9))\n",
    "\n",
    "# calc precip rate\n",
    "df['precip'] = df['accppt'].diff()"
   ]
  },
  {
   "cell_type": "code",
   "execution_count": 16,
   "metadata": {},
   "outputs": [],
   "source": [
    "# Function to filter rows between December 1 and March 31\n",
    "def is_winter_month(date):\n",
    "    return (date.month == 12 or date.month == 1 or date.month == 2 or date.month == 3)\n",
    "\n",
    "# Filter the DataFrame\n",
    "winter_df = df[df.index.map(is_winter_month)]\n",
    "\n",
    "# Calculate total snow and rain for the winter months with different thresholds\n",
    "def calculate_snow_rain_fractions(df, threshold):\n",
    "    snow = df.loc[df['airtempC'] < threshold, 'precip'].sum()\n",
    "    rain = df.loc[df['airtempC'] >= threshold, 'precip'].sum()\n",
    "    snow_frac = snow / (snow + rain) * 100 if (snow + rain) > 0 else 0\n",
    "    return snow, rain, snow_frac\n",
    "\n",
    "# Thresholds\n",
    "thresholds = [0, -2, -4]\n",
    "column_names = ['snow_precip_frac', 'snow_precip_frac_2C', 'snow_precip_frac_4C']\n",
    "\n",
    "# Calculate and assign results for each threshold\n",
    "site = 1082  # Example site code\n",
    "for threshold, column_name in zip(thresholds, column_names):\n",
    "    snow, rain, snow_frac = calculate_snow_rain_fractions(winter_df, threshold)\n",
    "    sntls.loc[sntls.site_code == site, column_name] = np.round(snow_frac, 2)\n",
    "    # print(f\"Threshold: {threshold}°C\")\n",
    "    # print(f\"Total snow: {snow}\")\n",
    "    # print(f\"Total rain: {rain}\")\n",
    "    # print(f\"Fraction of precip that is snow: {snow_frac:.2f}%\\n\")\n",
    "    \n",
    "sntls.to_csv('/home/cdalden/summa_setup/analysis/sntl_list_ski_temps_snowfrac.csv')"
   ]
  },
  {
   "cell_type": "code",
   "execution_count": null,
   "metadata": {},
   "outputs": [],
   "source": []
  }
 ],
 "metadata": {
  "kernelspec": {
   "display_name": "analysis",
   "language": "python",
   "name": "python3"
  },
  "language_info": {
   "codemirror_mode": {
    "name": "ipython",
    "version": 3
   },
   "file_extension": ".py",
   "mimetype": "text/x-python",
   "name": "python",
   "nbconvert_exporter": "python",
   "pygments_lexer": "ipython3",
   "version": "3.9.15"
  }
 },
 "nbformat": 4,
 "nbformat_minor": 2
}
