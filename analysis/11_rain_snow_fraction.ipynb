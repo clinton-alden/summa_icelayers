{
 "cells": [
  {
   "cell_type": "code",
   "execution_count": 1,
   "metadata": {},
   "outputs": [],
   "source": [
    "import pandas as pd\n",
    "import numpy as np\n",
    "import matplotlib.pyplot as plt\n",
    "import xarray as xr\n",
    "import cartopy.crs as ccrs\n",
    "import cartopy.feature as cfeature\n",
    "import cartopy.io.img_tiles as cimgt\n",
    "import folium\n",
    "import matplotlib\n",
    "import matplotlib.ticker as mticker\n",
    "from scipy.stats import linregress\n",
    "from matplotlib.font_manager import FontProperties\n",
    "from matplotlib.ticker import FixedLocator\n",
    "\n",
    "# Create a FontProperties object with bold font weight\n",
    "bold_font = FontProperties(weight='bold')"
   ]
  },
  {
   "cell_type": "code",
   "execution_count": 2,
   "metadata": {},
   "outputs": [],
   "source": [
    "def regression(independent_var, dependent_var):\n",
    "    slope, intercept, r_value, p_value, std_err = linregress(independent_var, dependent_var)\n",
    "    x = np.linspace(independent_var.min(), independent_var.max(), 100)\n",
    "    r_squared = r_value**2\n",
    "    y = slope * x + intercept\n",
    "    return x, y, r_squared"
   ]
  },
  {
   "cell_type": "code",
   "execution_count": 3,
   "metadata": {},
   "outputs": [],
   "source": [
    "sntls = pd.read_csv('./sntl_list_ski_temps_snowfrac.csv')\n",
    "\n",
    "ds = xr.open_dataset('./crust_stats_ski_snotels_vJan8.nc')"
   ]
  },
  {
   "cell_type": "code",
   "execution_count": 4,
   "metadata": {},
   "outputs": [],
   "source": [
    "# Calculate 'percent_crust_days' for 'current' and '+2K'\n",
    "ds['percent_crust_days'] = ds['crusts_binary']/ds['snow_on']*100\n",
    "\n",
    "# Calculate 'percent_crust_days' for 'current' and '+2K'\n",
    "ds_avg_current = ds['crusts_binary'].sel(model_run='current').mean(dim='time')/24\n",
    "ds_avg_2K = ds['crusts_binary'].sel(model_run='+2K').mean(dim='time')/24\n",
    "ds_avg_4K = ds['crusts_binary'].sel(model_run='+4K').mean(dim='time')/24"
   ]
  },
  {
   "cell_type": "code",
   "execution_count": 5,
   "metadata": {},
   "outputs": [],
   "source": [
    "# Calculate the average percent crust days for the 'current' and '2K' model runs\n",
    "ds_avg_current = ds['percent_crust_days'].sel(model_run='current').mean(dim='time')\n",
    "ds_avg_2K = ds['percent_crust_days'].sel(model_run='+2K').mean(dim='time')\n",
    "ds_avg_4K = ds['percent_crust_days'].sel(model_run='+4K').mean(dim='time')\n",
    "\n",
    "\n",
    "# Initialize the 'percent_crust_days' column in sntls with NaNs\n",
    "sntls['percent_crust_days_current'] = np.nan\n",
    "sntls['percent_crust_days_2K'] = np.nan\n",
    "sntls['percent_crust_days_4K'] = np.nan\n",
    "\n",
    "# Assign percent_crust_days to sntls where ds_avg_current.sel(site) matches the sntls['site_name'] column\n",
    "for idx, row in sntls.iterrows():\n",
    "    site_name = row['site_name']\n",
    "    if site_name in ds_avg_current['site']:\n",
    "        sntls.at[idx, 'percent_crust_days_current'] = ds_avg_current.sel(site=site_name).item()\n",
    "        sntls.at[idx, 'percent_crust_days_2K'] = ds_avg_2K.sel(site=site_name).item()\n",
    "        sntls.at[idx, 'percent_crust_days_4K'] = ds_avg_4K.sel(site=site_name).item()\n",
    "\n",
    "# Calculate the difference in percent crust days between the 'current' and '2K' model runs\n",
    "sntls['percent_crust_days_dif_2K'] = sntls['percent_crust_days_2K'] - sntls['percent_crust_days_current']\n",
    "sntls['percent_crust_days_dif_4K'] = sntls['percent_crust_days_4K'] - sntls['percent_crust_days_current']"
   ]
  },
  {
   "cell_type": "code",
   "execution_count": 6,
   "metadata": {},
   "outputs": [
    {
     "ename": "NameError",
     "evalue": "name 'x' is not defined",
     "output_type": "error",
     "traceback": [
      "\u001b[0;31m---------------------------------------------------------------------------\u001b[0m",
      "\u001b[0;31mNameError\u001b[0m                                 Traceback (most recent call last)",
      "Cell \u001b[0;32mIn[6], line 18\u001b[0m\n\u001b[1;32m     14\u001b[0m \u001b[38;5;66;03m# Panel 1: Temperature\u001b[39;00m\n\u001b[1;32m     15\u001b[0m \u001b[38;5;66;03m# Calculate the coefficients of the linear regression line for +2K\u001b[39;00m\n\u001b[1;32m     16\u001b[0m regression(filtered_data[\u001b[38;5;124m'\u001b[39m\u001b[38;5;124mmean_temp_djf\u001b[39m\u001b[38;5;124m'\u001b[39m], \n\u001b[1;32m     17\u001b[0m            filtered_data[\u001b[38;5;124m'\u001b[39m\u001b[38;5;124msnow_precip_frac_2C\u001b[39m\u001b[38;5;124m'\u001b[39m] \u001b[38;5;241m-\u001b[39m filtered_data[\u001b[38;5;124m'\u001b[39m\u001b[38;5;124msnow_precip_frac\u001b[39m\u001b[38;5;124m'\u001b[39m])\n\u001b[0;32m---> 18\u001b[0m ax\u001b[38;5;241m.\u001b[39mplot(\u001b[43mx\u001b[49m, y, color\u001b[38;5;241m=\u001b[39m\u001b[38;5;124m'\u001b[39m\u001b[38;5;124mred\u001b[39m\u001b[38;5;124m'\u001b[39m)\n\u001b[1;32m     19\u001b[0m ax\u001b[38;5;241m.\u001b[39mscatter(filtered_data[\u001b[38;5;124m'\u001b[39m\u001b[38;5;124mmean_temp_djf\u001b[39m\u001b[38;5;124m'\u001b[39m], (filtered_data[\u001b[38;5;124m'\u001b[39m\u001b[38;5;124msnow_precip_frac_2C\u001b[39m\u001b[38;5;124m'\u001b[39m] \u001b[38;5;241m-\u001b[39m filtered_data[\u001b[38;5;124m'\u001b[39m\u001b[38;5;124msnow_precip_frac\u001b[39m\u001b[38;5;124m'\u001b[39m]), \n\u001b[1;32m     20\u001b[0m             c\u001b[38;5;241m=\u001b[39m\u001b[38;5;124m'\u001b[39m\u001b[38;5;124mpowderblue\u001b[39m\u001b[38;5;124m'\u001b[39m, label\u001b[38;5;241m=\u001b[39m\u001b[38;5;124mf\u001b[39m\u001b[38;5;124m'\u001b[39m\u001b[38;5;124m$+2\u001b[39m\u001b[38;5;124m\\\u001b[39m\u001b[38;5;124mdegree$C, R²=\u001b[39m\u001b[38;5;132;01m{\u001b[39;00mr_squared\u001b[38;5;132;01m:\u001b[39;00m\u001b[38;5;124m.2f\u001b[39m\u001b[38;5;132;01m}\u001b[39;00m\u001b[38;5;124m'\u001b[39m, edgecolor\u001b[38;5;241m=\u001b[39m\u001b[38;5;124m'\u001b[39m\u001b[38;5;124mk\u001b[39m\u001b[38;5;124m'\u001b[39m, s\u001b[38;5;241m=\u001b[39m\u001b[38;5;241m100\u001b[39m)\n\u001b[1;32m     22\u001b[0m \u001b[38;5;66;03m# Calculate the coefficients of the linear regression line for +4K\u001b[39;00m\n",
      "\u001b[0;31mNameError\u001b[0m: name 'x' is not defined"
     ]
    },
    {
     "data": {
      "image/png": "[encoded data removed]",
      "text/plain": [
       "<Figure size 1000x600 with 1 Axes>"
      ]
     },
     "metadata": {},
     "output_type": "display_data"
    }
   ],
   "source": [
    "# Set the font properties for the legend\n",
    "font_properties = FontProperties(weight='bold', size=18)\n",
    "# Set the font properties for the tick labels\n",
    "tick_font_properties = FontProperties(weight='bold', size=20)\n",
    "\n",
    "# Filter out rows with NaNs in the relevant columns\n",
    "filtered_data = sntls.dropna(subset=['mean_temp_djf', 'percent_crust_days_dif_4K', 'elev', \n",
    "                                     'snow_precip_frac', 'snow_precip_frac_2C', 'snow_precip_frac_4C'])\n",
    "\n",
    "# Create a 2-paneled plot\n",
    "fig, ax = plt.subplots(figsize=(10, 6))\n",
    "plt.subplots_adjust(wspace=40)\n",
    "\n",
    "# Panel 1: Temperature\n",
    "# Calculate the coefficients of the linear regression line for +2K\n",
    "regression(filtered_data['mean_temp_djf'], \n",
    "           filtered_data['snow_precip_frac_2C'] - filtered_data['snow_precip_frac'])\n",
    "ax.plot(x, y, color='red')\n",
    "ax.scatter(filtered_data['mean_temp_djf'], (filtered_data['snow_precip_frac_2C'] - filtered_data['snow_precip_frac']), \n",
    "            c='powderblue', label=f'$+2\\degree$C, R²={r_squared:.2f}', edgecolor='k', s=100)\n",
    "\n",
    "# Calculate the coefficients of the linear regression line for +4K\n",
    "slope, intercept, r_value, p_value, std_err = linregress(filtered_data['mean_temp_djf'], \n",
    "                                                         filtered_data['snow_precip_frac_4C'] - filtered_data['snow_precip_frac'])\n",
    "r_squared = r_value**2\n",
    "y = slope * x + intercept\n",
    "# ax.plot(x, y, color='red')\n",
    "ax.scatter(filtered_data['mean_temp_djf'], (filtered_data['snow_precip_frac_4C'] - filtered_data['snow_precip_frac']), \n",
    "            c='steelblue', label=f'$+4\\degree$C, R²={r_squared:.2f}', edgecolor='k', s=100)\n",
    "\n",
    "# Set the tick positions explicitly\n",
    "ax.xaxis.set_major_locator(FixedLocator(ax.get_xticks()))\n",
    "ax.yaxis.set_major_locator(FixedLocator(ax.get_yticks()))\n",
    "\n",
    "# Change the fontsize and fontweight of x tick labels\n",
    "ax.set_xticklabels(ax.get_xticks(), fontproperties=tick_font_properties)\n",
    "# Change the fontsize and fontweight of y tick labels\n",
    "ax.set_yticklabels(ax.get_yticks(), fontproperties=tick_font_properties)\n",
    "\n",
    "# Ensure all tick labels are displayed correctly\n",
    "ax.xaxis.set_tick_params(labelsize=20)\n",
    "ax.yaxis.set_tick_params(labelsize=20)\n",
    "\n",
    "ax.set_xlabel('Current Mean Winter Air Temp. [$ \\degree $C]', fontweight='bold', fontsize=20)\n",
    "ax.set_ylabel('$\\Delta$ Percent Winter Precip as Snow', fontweight='bold', fontsize=20)\n",
    "ax.grid(True)\n",
    "# Apply the font properties to the legend\n",
    "ax.legend(prop=font_properties)\n",
    "\n",
    "\n",
    "# # Add labels (a) and (b)\n",
    "# ax1.text(-0.1, 1.1, 'A', transform=ax1.transAxes, fontsize=30, fontweight='bold', va='top', ha='right')\n",
    "# ax2.text(-0.1, 1.1, 'B', transform=ax2.transAxes, fontsize=30, fontweight='bold', va='top', ha='right')\n",
    "\n",
    "plt.tight_layout()\n",
    "# plt.show()"
   ]
  },
  {
   "cell_type": "code",
   "execution_count": null,
   "metadata": {},
   "outputs": [],
   "source": []
  }
 ],
 "metadata": {
  "kernelspec": {
   "display_name": "analysis",
   "language": "python",
   "name": "python3"
  },
  "language_info": {
   "codemirror_mode": {
    "name": "ipython",
    "version": 3
   },
   "file_extension": ".py",
   "mimetype": "text/x-python",
   "name": "python",
   "nbconvert_exporter": "python",
   "pygments_lexer": "ipython3",
   "version": "3.9.15"
  }
 },
 "nbformat": 4,
 "nbformat_minor": 2
}
