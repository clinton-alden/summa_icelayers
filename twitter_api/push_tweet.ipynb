{
 "cells": [
  {
   "cell_type": "code",
   "execution_count": 3,
   "metadata": {},
   "outputs": [
    {
     "name": "stdout",
     "output_type": "stream",
     "text": [
      "Response(data={'id': '1845334419709874624', 'edit_history_tweet_ids': ['1845334419709874624'], 'text': 'SUMMA-HRRR Snow Depth and Temperature 48hr Forecast initialized 12Oct2024 for Paradise, WA.\\n\\nThis tool is automated and purely experimental and should not be relied on for decision making. Please refer to https://t.co/14fwL1vEoa for the avalanche forecast. https://t.co/JXjdsDmrbv'}, includes={}, errors=[], meta={})\n"
     ]
    }
   ],
   "source": [
    "var = input(\"density or temp\")\n",
    "if var == \"temp\":\n",
    "    var_long = \"temperature\"\n",
    "elif var == \"density\":\n",
    "    var_long = \"density\"\n",
    "\n",
    "import tweepy\n",
    "# the below import is for calculating date. Not needed for you but I needed it.\n",
    "from datetime import date, datetime, timedelta\n",
    "import shutil, pathlib, os\n",
    "\n",
    "# take these from developer.twitter.com\n",
    "ACCESS_KEY = \"4544611537-MH3ykKPtEflWNJ3bVr4JQxug7pdppoD9lIfFCFR\" # access token\n",
    "ACCESS_SECRET = \"lP4Oe0TksQw3DDsYU9GUBPxMSn6Yicd8gpoP2o1gHmQ4i\" # access token secret\n",
    "CONSUMER_KEY = \"B5n3mp5OP3cgn7tNgtQK1XjVQ\" # api key\n",
    "CONSUMER_SECRET = \"B1NfF3u2AV0an6CPGgkyEXNmeD6IFkUbVO0vhPjJeJDazBhcf2\" # api secret\n",
    "BEARER_TOKEN = \"AAAAAAAAAAAAAAAAAAAAAHxywQEAAAAAvuJUZ9w3QM1GE2BBG%2FBaSAdO3zQ%3DTyAm5E12w6s8Wh0ucUiirjXxdorMdGcQu827btvPiA9qaGIMzH\"\n",
    "\n",
    "# Authenticate to Twitter\n",
    "auth = tweepy.OAuthHandler(CONSUMER_KEY, CONSUMER_SECRET)\n",
    "auth.set_access_token(\n",
    "    ACCESS_KEY,\n",
    "    ACCESS_SECRET,\n",
    ")\n",
    "# this is the syntax for twitter API 2.0. It uses the client credentials that we created\n",
    "newapi = tweepy.Client(\n",
    "    bearer_token=BEARER_TOKEN,\n",
    "    access_token=ACCESS_KEY,\n",
    "    access_token_secret=ACCESS_SECRET,\n",
    "    consumer_key=CONSUMER_KEY,\n",
    "    consumer_secret=CONSUMER_SECRET,\n",
    ")\n",
    "\n",
    "# Create API object using the old twitter APIv1.1\n",
    "api = tweepy.API(auth)\n",
    "\n",
    "# adding the tweet content in a multiline string. The {mydays} part is updated dynamically as the number of days from 6th Nov, 2023\n",
    "# Get the current date\n",
    "today = datetime.today()\n",
    "# Format the date as 'DDMMM'\n",
    "date_str = today.strftime('%d%b%Y')\n",
    "# Calculate the date 2 days later\n",
    "two_days_later = today + timedelta(days=2)\n",
    "# Format the date as 'DDMMM'\n",
    "date_str_two_days_later = two_days_later.strftime('%d%b%Y')\n",
    "\n",
    "sampletweet = f'SUMMA-HRRR Snow Depth and {var_long.capitalize()} 48hr Forecast initialized {date_str} for Paradise, WA.\\n\\nThis tool is automated and purely experimental and should not be relied on for decision making. Please refer to nwac.us for the avalanche forecast.'\n",
    "\n",
    "# Define the directory to search\n",
    "search_dir = '/home/cdalden/summa_setup/twitter_api/plots'\n",
    "\n",
    "# Find the first PNG image in the ./plots directory\n",
    "img = None\n",
    "for image in os.listdir(search_dir):\n",
    "    # Check if the image ends with \"density.png\" and take the first image that you find\n",
    "    if image.endswith(f\"{var}.png\"):\n",
    "        img = os.path.join(search_dir, image)\n",
    "        break\n",
    "\n",
    "if img is None:\n",
    "    raise FileNotFoundError(f\"No image ending with '{var}.png' found in the ./plots directory\")\n",
    "\n",
    "# Upload the media using the old API\n",
    "media = api.media_upload(os.path.join(search_dir, img))\n",
    "\n",
    "# Create the tweet using the new API, mentioning the image uploaded via the old API\n",
    "post_result = newapi.create_tweet(text=sampletweet, media_ids=[media.media_id])\n",
    "\n",
    "# Print the response from the API\n",
    "print(post_result)"
   ]
  },
  {
   "cell_type": "code",
   "execution_count": null,
   "metadata": {},
   "outputs": [],
   "source": []
  }
 ],
 "metadata": {
  "kernelspec": {
   "display_name": "new_tweets",
   "language": "python",
   "name": "python3"
  },
  "language_info": {
   "codemirror_mode": {
    "name": "ipython",
    "version": 3
   },
   "file_extension": ".py",
   "mimetype": "text/x-python",
   "name": "python",
   "nbconvert_exporter": "python",
   "pygments_lexer": "ipython3",
   "version": "3.9.20"
  }
 },
 "nbformat": 4,
 "nbformat_minor": 2
}
